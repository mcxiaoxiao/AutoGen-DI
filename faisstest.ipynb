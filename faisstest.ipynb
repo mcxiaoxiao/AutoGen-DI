{
 "cells": [
  {
   "cell_type": "code",
   "execution_count": 1,
   "id": "3748face-b45b-4c4f-9a20-81232291889b",
   "metadata": {
    "tags": []
   },
   "outputs": [
    {
     "name": "stdout",
     "output_type": "stream",
     "text": [
      "Looking in indexes: https://mirrors.aliyun.com/pypi/simple/\n",
      "Requirement already satisfied: faiss-cpu in /Users/mac1234/anaconda3/lib/python3.11/site-packages (1.7.4)\n"
     ]
    }
   ],
   "source": [
    "!pip install faiss-cpu"
   ]
  },
  {
   "cell_type": "code",
   "execution_count": 3,
   "id": "0ae44729-3086-44f7-8642-2f4b0e602318",
   "metadata": {
    "tags": []
   },
   "outputs": [],
   "source": [
    "import json\n",
    "import requests\n",
    "def get_embedding(text, model=\"text-embedding-ada-002\"):\n",
    "        url = \"https://api.openai.com/v1/embeddings\"\n",
    "        headers = {\n",
    "            \"Content-Type\": \"application/json\",\n",
    "            \"Authorization\": \"Bearer sk-xxxxx\"\n",
    "        }\n",
    "        data = {\n",
    "            \"input\": text,\n",
    "            \"model\": model\n",
    "        }\n",
    "        response = requests.post(url, headers=headers, data=json.dumps(data))\n",
    "        response_data = response.json()\n",
    "        embedding = response_data['data'][0]['embedding']\n",
    "        return embedding"
   ]
  },
  {
   "cell_type": "code",
   "execution_count": 10,
   "id": "976a80a5-3877-444f-adb7-e0dd1189f4ae",
   "metadata": {
    "tags": []
   },
   "outputs": [
    {
     "name": "stdout",
     "output_type": "stream",
     "text": [
      "1536\n",
      "[[ 0.00981758 -0.01562339  0.00726885 ... -0.00707687 -0.02936668\n",
      "  -0.02152851]]\n",
      "1536\n",
      "[[-0.00231937 -0.0160774   0.00879795 ... -0.01272739 -0.04225146\n",
      "  -0.01471874]]\n",
      "1536\n",
      "[[ 0.00199679 -0.01804479  0.01160396 ... -0.00750883 -0.02725719\n",
      "  -0.02796483]]\n"
     ]
    }
   ],
   "source": [
    "import openai\n",
    "import faiss\n",
    "import numpy as np\n",
    "\n",
    "# 设置 OpenAI API 密钥\n",
    "openai.api_key = 'sk-xxxx'\n",
    "\n",
    "embedding_dim = 1536\n",
    "index = faiss.IndexFlatL2(embedding_dim)\n",
    "\n",
    "\n",
    "# 假设您有一系列问题和对应的答案\n",
    "questions = [\"问题1\", \"问题2\", \"问题3\"]\n",
    "answers = [\"答案1\", \"答案2\", \"答案3\"]\n",
    "\n",
    "# 获取问题和答案的嵌入向量，并将其添加到索引中\n",
    "for question, answer in zip(questions, answers):\n",
    "    prompt = f\"问题：{question}\\n答案：{answer}\\n\"\n",
    "    embedding = get_embedding(prompt)\n",
    "    print(len(embedding))\n",
    "    embedding = np.array([embedding]).astype('float32')  # 将嵌入向量转换为二维数组\n",
    "    print(embedding)\n",
    "    index.add(embedding)\n",
    "\n"
   ]
  },
  {
   "cell_type": "code",
   "execution_count": 11,
   "id": "a6f0b306-c51f-412a-96f6-d97bf76cf512",
   "metadata": {
    "tags": []
   },
   "outputs": [
    {
     "name": "stdout",
     "output_type": "stream",
     "text": [
      "查询问题：我想了解问题2的答案\n",
      "最相似的问题：问题2\n",
      "对应的答案：答案2\n"
     ]
    }
   ],
   "source": [
    "# 假设您有一个新的查询问题\n",
    "query = \"我想了解问题2的答案\"\n",
    "\n",
    "# 获取查询问题的嵌入向量\n",
    "query_embedding = get_embedding(query)\n",
    "query_embedding = np.array([query_embedding]).astype('float32')\n",
    "\n",
    "# 使用 Faiss 索引进行相似度匹配和检索\n",
    "k = 1  # 返回与查询问题最相似的问题-答案对的数量\n",
    "distances, indices = index.search(query_embedding, k)\n",
    "\n",
    "# 根据索引获取相似的问题-答案对\n",
    "similar_question = questions[indices[0][0]]\n",
    "similar_answer = answers[indices[0][0]]\n",
    "\n",
    "print(f\"查询问题：{query}\")\n",
    "print(f\"最相似的问题：{similar_question}\")\n",
    "print(f\"对应的答案：{similar_answer}\")\n"
   ]
  },
  {
   "cell_type": "code",
   "execution_count": null,
   "id": "b1e268c0-552a-45d4-9752-b9011485f7b0",
   "metadata": {
    "tags": []
   },
   "outputs": [],
   "source": [
    "import csv\n",
    "import faiss\n",
    "import numpy as np\n",
    "\n",
    "import openai\n",
    "\n",
    "# 设置 OpenAI API 密钥\n",
    "openai.api_key = 'sk-xxxx'\n",
    "\n",
    "embedding_dim = 1536\n",
    "index = faiss.IndexFlatL2(embedding_dim)\n",
    "\n",
    "# 定义函数获取嵌入向量\n",
    "def get_embedding(text, model=\"text-embedding-ada-002\"):\n",
    "    text = text.replace(\"\\n\", \" \")\n",
    "    return openai.Embedding.create(input=[text], model=model)['data'][0]['embedding']\n",
    "\n",
    "# 从 CSV 文件中读取问题和答案\n",
    "csv_file = \"qa_data.csv\"\n",
    "\n",
    "questions = []\n",
    "answers = []\n",
    "\n",
    "with open(csv_file, \"r\") as f:\n",
    "    reader = csv.reader(f)\n",
    "    next(reader)  # 跳过标题行\n",
    "    for row in reader:\n",
    "        question = row[0]\n",
    "        answer = row[1]\n",
    "        # print(question,answer)\n",
    "        questions.append(question)\n",
    "        answers.append(answer)\n",
    "\n",
    "# 获取问题和答案的嵌入向量，并将其添加到索引中\n",
    "for question, answer in zip(questions, answers):\n",
    "    prompt = f\"问题：{question}\\n答案：{answer}\\n\"\n",
    "    embedding = get_embedding(prompt)\n",
    "    embedding = np.array([embedding]).astype('float32')  # 将嵌入向量转换为二维数组\n",
    "    index.add(embedding)\n",
    "\n",
    "# 保存 Faiss 索引到本地文件\n",
    "index_file = \"faiss_index.index\"\n",
    "\n",
    "faiss.write_index(index, index_file)\n"
   ]
  },
  {
   "cell_type": "code",
   "execution_count": 5,
   "id": "34a15af3-e1f2-4889-959f-874f38534a1d",
   "metadata": {
    "tags": []
   },
   "outputs": [
    {
     "name": "stdout",
     "output_type": "stream",
     "text": [
      "Question: 今天光伏发电量是123 风电 154 制作一份csv，包含这7天的发电预测数据和对应的厂用率给出均值和方差和预测的区间 文件名就叫今天日期～7天后的日期.csv\n",
      "Answer: import numpy as np\n",
      "import pandas as pd\n",
      "from datetime import datetime, timedelta\n",
      "from get_predict import PredictFd\n",
      "from get_cylpredict import PredictCyl\n",
      "\n",
      "# 当前日期和7天后的日期\n",
      "now_date = datetime.now().strftime('%Y%m%d')\n",
      "future_date = (datetime.now() + timedelta(days=7)).strftime('%Y%m%d')\n",
      "\n",
      "# 初始化数据列表\n",
      "data = []\n",
      "\n",
      "# 循环获取未来7天的预测数据\n",
      "for i in range(8):\n",
      "    predict_date = (datetime.now() + timedelta(days=i)).strftime('%Y%m%d')\n",
      "    # 光伏发电量预测\n",
      "    pv_predict = await PredictFd(now_date, predict_date, \"123\", \"光伏\")\n",
      "    # 风电发电量预测\n",
      "    wind_predict = await PredictFd(now_date, predict_date, \"154\", \"风力\")\n",
      "\n",
      "    # 获取光伏的厂用率预测\n",
      "    pv_cyl_predict = await PredictCyl(pv_predict['predict'], \"gf\")\n",
      "    # 获取风电的厂用率预测\n",
      "    wind_cyl_predict = await PredictCyl(wind_predict['predict'], \"fd\")\n",
      "\n",
      "    # 添加到数据列表\n",
      "    data.append({\n",
      "        \"date\": predict_date,\n",
      "        \"pv_predict\": pv_predict['predict'],\n",
      "        \"wind_predict\": wind_predict['predict'],\n",
      "        \"pv_mean\": pv_cyl_predict['mean'],\n",
      "        \"pv_std\": pv_cyl_predict['std'],\n",
      "        \"pv_interval_lower\": pv_cyl_predict['interval_lower'],\n",
      "        \"pv_interval_upper\": pv_cyl_predict['interval_upper'],\n",
      "        \"wind_mean\": wind_cyl_predict['mean'],\n",
      "        \"wind_std\": wind_cyl_predict['std'],\n",
      "        \"wind_interval_lower\": wind_cyl_predict['interval_lower'],\n",
      "        \"wind_interval_upper\": wind_cyl_predict['interval_upper'],\n",
      "    })\n",
      "\n",
      "# 创建DataFrame\n",
      "df = pd.DataFrame(data)\n",
      "\n",
      "# 保存到CSV\n",
      "filename = f\"{now_date}～{future_date}.csv\"\n",
      "df.to_csv(filename, index=False)\n",
      "\n",
      "print(f\"File {filename} has been saved successfully.\")\n",
      "\n"
     ]
    }
   ],
   "source": [
    "import faiss\n",
    "import numpy as np\n",
    "import csv\n",
    "\n",
    "import openai\n",
    "\n",
    "# 设置 OpenAI API 密钥\n",
    "openai.api_key = 'sk-xxxxx'\n",
    "\n",
    "embedding_dim = 1536\n",
    "\n",
    "# 加载 Faiss 索引\n",
    "index_file = \"faiss_index.index\"\n",
    "\n",
    "index = faiss.read_index(index_file)\n",
    "\n",
    "# 加载 QA 数据\n",
    "qa_data_file = \"qa_data.csv\"\n",
    "\n",
    "\n",
    "# 定义函数根据当前问题查找答案\n",
    "def search_answer(question, index, questions, answers):\n",
    "    question_embedding = get_embedding(question)\n",
    "    question_embedding = np.array([question_embedding]).astype('float32')  # 将查询向量转换为二维数组\n",
    "\n",
    "    # 在 Faiss 索引中搜索最相似的嵌入向量\n",
    "    top_k = 1  # 返回前1个最相似的结果\n",
    "    _, indices = index.search(question_embedding, top_k)\n",
    "\n",
    "    # 根据索引获取相似的答案\n",
    "    result = []\n",
    "    for idx in indices[0]:\n",
    "        question = questions[idx]\n",
    "        answer = answers[idx]\n",
    "        result.append((question, answer))\n",
    "\n",
    "    return result\n",
    "\n",
    "# 读取 QA 数据并存储问题和答案\n",
    "questions = []\n",
    "answers = []\n",
    "\n",
    "with open(qa_data_file, \"r\") as f:\n",
    "    reader = csv.reader(f)\n",
    "    next(reader)  # 跳过标题行\n",
    "    for row in reader:\n",
    "        question = row[0]\n",
    "        answer = row[1]\n",
    "        questions.append(question)\n",
    "        answers.append(answer)\n",
    "\n",
    "# 示例使用\n",
    "question = \"今天光伏发电量是123 风电 154 制作一份csv，包含\"\n",
    "results = search_answer(question, index, questions, answers)\n",
    "\n",
    "# 打印答案\n",
    "for question, answer in results:\n",
    "    print(\"Question:\", question)\n",
    "    print(\"Answer:\", answer)\n",
    "    print()\n"
   ]
  }
 ],
 "metadata": {
  "kernelspec": {
   "display_name": "Python 3 (ipykernel)",
   "language": "python",
   "name": "python3"
  },
  "language_info": {
   "codemirror_mode": {
    "name": "ipython",
    "version": 3
   },
   "file_extension": ".py",
   "mimetype": "text/x-python",
   "name": "python",
   "nbconvert_exporter": "python",
   "pygments_lexer": "ipython3",
   "version": "3.11.5"
  }
 },
 "nbformat": 4,
 "nbformat_minor": 5
}
